{
 "cells": [
  {
   "cell_type": "code",
   "execution_count": 67,
   "metadata": {},
   "outputs": [],
   "source": [
    "import pandas as pd\n",
    "import numpy as np \n",
    "import re\n",
    "import jieba\n",
    "import matplotlib.pyplot as plt\n",
    "from wordcloud import WordCloud"
   ]
  },
  {
   "cell_type": "markdown",
   "metadata": {},
   "source": [
    "# 哈弗"
   ]
  },
  {
   "cell_type": "code",
   "execution_count": 2,
   "metadata": {},
   "outputs": [
    {
     "data": {
      "text/html": [
       "<div>\n",
       "<style scoped>\n",
       "    .dataframe tbody tr th:only-of-type {\n",
       "        vertical-align: middle;\n",
       "    }\n",
       "\n",
       "    .dataframe tbody tr th {\n",
       "        vertical-align: top;\n",
       "    }\n",
       "\n",
       "    .dataframe thead th {\n",
       "        text-align: right;\n",
       "    }\n",
       "</style>\n",
       "<table border=\"1\" class=\"dataframe\">\n",
       "  <thead>\n",
       "    <tr style=\"text-align: right;\">\n",
       "      <th></th>\n",
       "      <th>标题</th>\n",
       "      <th>标题链接</th>\n",
       "      <th>list-item-count</th>\n",
       "      <th>缩略图</th>\n",
       "      <th>result-item-details</th>\n",
       "      <th>availability-status</th>\n",
       "      <th>result-item-details1</th>\n",
       "      <th>result-item-details2</th>\n",
       "      <th>Unnamed: 8</th>\n",
       "      <th>Unnamed: 9</th>\n",
       "    </tr>\n",
       "  </thead>\n",
       "  <tbody>\n",
       "    <tr>\n",
       "      <th>0</th>\n",
       "      <td>E-commerce : hukum dan solusinya</td>\n",
       "      <td>https://hollis.harvard.edu/primo-explore/fulld...</td>\n",
       "      <td>1</td>\n",
       "      <td>Sanusi, M. Arsyad, 1944-</td>\n",
       "      <td>Available at Harvard Law School Library Offsit...</td>\n",
       "      <td>2001]</td>\n",
       "      <td>https://hollis.harvard.edu/custom/HVD2/img/ico...</td>\n",
       "      <td>NaN</td>\n",
       "      <td>[Cet. 1].</td>\n",
       "      <td>[Bandung : Mizan Grafika Sarana</td>\n",
       "    </tr>\n",
       "    <tr>\n",
       "      <th>1</th>\n",
       "      <td>Introduction to e-commerce</td>\n",
       "      <td>https://hollis.harvard.edu/primo-explore/fulld...</td>\n",
       "      <td>2</td>\n",
       "      <td>Rayport, Jeffrey F.</td>\n",
       "      <td>Available at Baker Business Stacks -- LC Books...</td>\n",
       "      <td>c2004</td>\n",
       "      <td>NaN</td>\n",
       "      <td>NaN</td>\n",
       "      <td>2nd ed.</td>\n",
       "      <td>Boston : McGraw-Hill Irwin MarketspaceU</td>\n",
       "    </tr>\n",
       "    <tr>\n",
       "      <th>2</th>\n",
       "      <td>The Economics of E-Commerce: A Strategic Guide...</td>\n",
       "      <td>https://hollis.harvard.edu/primo-explore/fulld...</td>\n",
       "      <td>3</td>\n",
       "      <td>Vulkan, Nir ; Vulkan</td>\n",
       "      <td>ONLINE ACCESS</td>\n",
       "      <td>2020</td>\n",
       "      <td>https://hollis.harvard.edu/custom/HVD2/img/ico...</td>\n",
       "      <td>Despite the recent misfortunes of many dotcoms...</td>\n",
       "      <td>NaN</td>\n",
       "      <td>NaN</td>\n",
       "    </tr>\n",
       "    <tr>\n",
       "      <th>3</th>\n",
       "      <td>China Livestreaming e-Commerce Industry Insights</td>\n",
       "      <td>https://hollis.harvard.edu/primo-explore/fulld...</td>\n",
       "      <td>4</td>\n",
       "      <td>Si, Ruo</td>\n",
       "      <td>Check access options</td>\n",
       "      <td>2021</td>\n",
       "      <td>https://hollis.harvard.edu/custom/HVD2/img/ico...</td>\n",
       "      <td>This book analyzes multiple aspects of the Chi...</td>\n",
       "      <td>1st ed. 2021.</td>\n",
       "      <td>NaN</td>\n",
       "    </tr>\n",
       "    <tr>\n",
       "      <th>4</th>\n",
       "      <td>E-Commerce 2020-2021: Business, Technology and...</td>\n",
       "      <td>https://hollis.harvard.edu/primo-explore/fulld...</td>\n",
       "      <td>5</td>\n",
       "      <td>Traver, Carol Guercio ; Laudon, Kenneth C</td>\n",
       "      <td>Check access options</td>\n",
       "      <td>2020</td>\n",
       "      <td>https://hollis.harvard.edu/custom/HVD2/img/ico...</td>\n",
       "      <td>....  For courses in e-commerce.The most up-to...</td>\n",
       "      <td>NaN</td>\n",
       "      <td>NaN</td>\n",
       "    </tr>\n",
       "  </tbody>\n",
       "</table>\n",
       "</div>"
      ],
      "text/plain": [
       "                                                  标题  \\\n",
       "0                   E-commerce : hukum dan solusinya   \n",
       "1                         Introduction to e-commerce   \n",
       "2  The Economics of E-Commerce: A Strategic Guide...   \n",
       "3   China Livestreaming e-Commerce Industry Insights   \n",
       "4  E-Commerce 2020-2021: Business, Technology and...   \n",
       "\n",
       "                                                标题链接  list-item-count  \\\n",
       "0  https://hollis.harvard.edu/primo-explore/fulld...                1   \n",
       "1  https://hollis.harvard.edu/primo-explore/fulld...                2   \n",
       "2  https://hollis.harvard.edu/primo-explore/fulld...                3   \n",
       "3  https://hollis.harvard.edu/primo-explore/fulld...                4   \n",
       "4  https://hollis.harvard.edu/primo-explore/fulld...                5   \n",
       "\n",
       "                                         缩略图  \\\n",
       "0                   Sanusi, M. Arsyad, 1944-   \n",
       "1                        Rayport, Jeffrey F.   \n",
       "2                       Vulkan, Nir ; Vulkan   \n",
       "3                                    Si, Ruo   \n",
       "4  Traver, Carol Guercio ; Laudon, Kenneth C   \n",
       "\n",
       "                                 result-item-details availability-status  \\\n",
       "0  Available at Harvard Law School Library Offsit...               2001]   \n",
       "1  Available at Baker Business Stacks -- LC Books...               c2004   \n",
       "2                                      ONLINE ACCESS                2020   \n",
       "3                               Check access options                2021   \n",
       "4                               Check access options                2020   \n",
       "\n",
       "                                result-item-details1  \\\n",
       "0  https://hollis.harvard.edu/custom/HVD2/img/ico...   \n",
       "1                                                NaN   \n",
       "2  https://hollis.harvard.edu/custom/HVD2/img/ico...   \n",
       "3  https://hollis.harvard.edu/custom/HVD2/img/ico...   \n",
       "4  https://hollis.harvard.edu/custom/HVD2/img/ico...   \n",
       "\n",
       "                                result-item-details2     Unnamed: 8  \\\n",
       "0                                                NaN      [Cet. 1].   \n",
       "1                                                NaN        2nd ed.   \n",
       "2  Despite the recent misfortunes of many dotcoms...            NaN   \n",
       "3  This book analyzes multiple aspects of the Chi...  1st ed. 2021.   \n",
       "4  ....  For courses in e-commerce.The most up-to...            NaN   \n",
       "\n",
       "                                Unnamed: 9  \n",
       "0          [Bandung : Mizan Grafika Sarana  \n",
       "1  Boston : McGraw-Hill Irwin MarketspaceU  \n",
       "2                                      NaN  \n",
       "3                                      NaN  \n",
       "4                                      NaN  "
      ]
     },
     "execution_count": 2,
     "metadata": {},
     "output_type": "execute_result"
    }
   ],
   "source": [
    "hf = pd.read_excel('哈佛图书馆.xlsx')\n",
    "hf.dropna()\n",
    "hf.head()"
   ]
  },
  {
   "cell_type": "code",
   "execution_count": 6,
   "metadata": {},
   "outputs": [
    {
     "data": {
      "text/plain": [
       "0                        E-commerce : hukum dan solusinya\n",
       "1                              Introduction to e-commerce\n",
       "2       The Economics of E-Commerce: A Strategic Guide...\n",
       "3        China Livestreaming e-Commerce Industry Insights\n",
       "4       E-Commerce 2020-2021: Business, Technology and...\n",
       "                              ...                        \n",
       "2174    E-Business and Telecommunications: 6th Interna...\n",
       "2175           Food supply networks: trust and e-business\n",
       "2176          E-Mail Selling Techniques: That Really Work\n",
       "2177    Internet and Electronic Commerce Law in the Eu...\n",
       "2178    Going wireless: transform your business with m...\n",
       "Name: 标题, Length: 2179, dtype: object"
      ]
     },
     "execution_count": 6,
     "metadata": {},
     "output_type": "execute_result"
    }
   ],
   "source": [
    "hf['标题']"
   ]
  },
  {
   "cell_type": "code",
   "execution_count": null,
   "metadata": {},
   "outputs": [],
   "source": []
  },
  {
   "cell_type": "markdown",
   "metadata": {},
   "source": [
    "# 清华"
   ]
  },
  {
   "cell_type": "code",
   "execution_count": 3,
   "metadata": {},
   "outputs": [
    {
     "data": {
      "text/html": [
       "<div>\n",
       "<style scoped>\n",
       "    .dataframe tbody tr th:only-of-type {\n",
       "        vertical-align: middle;\n",
       "    }\n",
       "\n",
       "    .dataframe tbody tr th {\n",
       "        vertical-align: top;\n",
       "    }\n",
       "\n",
       "    .dataframe thead th {\n",
       "        text-align: right;\n",
       "    }\n",
       "</style>\n",
       "<table border=\"1\" class=\"dataframe\">\n",
       "  <thead>\n",
       "    <tr style=\"text-align: right;\">\n",
       "      <th></th>\n",
       "      <th>标题</th>\n",
       "      <th>list-index</th>\n",
       "      <th>缩略图</th>\n",
       "      <th>edition-num</th>\n",
       "      <th>data-info-box</th>\n",
       "      <th>data-info-box1</th>\n",
       "      <th>字段1</th>\n",
       "    </tr>\n",
       "  </thead>\n",
       "  <tbody>\n",
       "    <tr>\n",
       "      <th>0</th>\n",
       "      <td>电子商务概论</td>\n",
       "      <td>1.0</td>\n",
       "      <td>https://cckb.lib.tsinghua.edu.cn/proxy/C/00118...</td>\n",
       "      <td>查看更多版本（2）&gt;</td>\n",
       "      <td>邵康</td>\n",
       "      <td>上海 : 华东理工大学出版社  2005</td>\n",
       "      <td>电子商务概论</td>\n",
       "    </tr>\n",
       "    <tr>\n",
       "      <th>1</th>\n",
       "      <td>电子商务概论</td>\n",
       "      <td>2.0</td>\n",
       "      <td>https://cckb.lib.tsinghua.edu.cn/proxy/C/02509...</td>\n",
       "      <td>查看更多版本（2）&gt;</td>\n",
       "      <td>孙若莹 王兴芬</td>\n",
       "      <td>北京 : 清华大学出版社  2017</td>\n",
       "      <td>电子商务概论</td>\n",
       "    </tr>\n",
       "    <tr>\n",
       "      <th>2</th>\n",
       "      <td>电子商务服务</td>\n",
       "      <td>3.0</td>\n",
       "      <td>https://cckb.lib.tsinghua.edu.cn/proxy/C/02485...</td>\n",
       "      <td>查看更多版本（2）&gt;</td>\n",
       "      <td>梁春晓 盛振中 潘洪刚</td>\n",
       "      <td>北京 : 清华大学出版社  2015</td>\n",
       "      <td>电子商务服务</td>\n",
       "    </tr>\n",
       "    <tr>\n",
       "      <th>3</th>\n",
       "      <td>商务信息化管理 : 电子商务</td>\n",
       "      <td>4.0</td>\n",
       "      <td>data:image/gif;base64,R0lGODlhAQABAIAAAAAAAP//...</td>\n",
       "      <td>查看更多版本（2）&gt;</td>\n",
       "      <td>李蛟</td>\n",
       "      <td>北京 : 北京邮电大学出版社  2011</td>\n",
       "      <td>商务信息化管理 : 电子商务</td>\n",
       "    </tr>\n",
       "    <tr>\n",
       "      <th>4</th>\n",
       "      <td>电子商务</td>\n",
       "      <td>5.0</td>\n",
       "      <td>data:image/gif;base64,R0lGODlhAQABAIAAAAAAAP//...</td>\n",
       "      <td>查看更多版本（2）&gt;</td>\n",
       "      <td>劳帼龄</td>\n",
       "      <td>北京 : 电子工业出版社  2003</td>\n",
       "      <td>电子商务</td>\n",
       "    </tr>\n",
       "  </tbody>\n",
       "</table>\n",
       "</div>"
      ],
      "text/plain": [
       "               标题  list-index  \\\n",
       "0          电子商务概论         1.0   \n",
       "1          电子商务概论         2.0   \n",
       "2          电子商务服务         3.0   \n",
       "3  商务信息化管理 : 电子商务         4.0   \n",
       "4            电子商务         5.0   \n",
       "\n",
       "                                                 缩略图 edition-num  \\\n",
       "0  https://cckb.lib.tsinghua.edu.cn/proxy/C/00118...  查看更多版本（2）>   \n",
       "1  https://cckb.lib.tsinghua.edu.cn/proxy/C/02509...  查看更多版本（2）>   \n",
       "2  https://cckb.lib.tsinghua.edu.cn/proxy/C/02485...  查看更多版本（2）>   \n",
       "3  data:image/gif;base64,R0lGODlhAQABAIAAAAAAAP//...  查看更多版本（2）>   \n",
       "4  data:image/gif;base64,R0lGODlhAQABAIAAAAAAAP//...  查看更多版本（2）>   \n",
       "\n",
       "  data-info-box        data-info-box1             字段1  \n",
       "0            邵康  上海 : 华东理工大学出版社  2005          电子商务概论  \n",
       "1       孙若莹 王兴芬    北京 : 清华大学出版社  2017          电子商务概论  \n",
       "2   梁春晓 盛振中 潘洪刚    北京 : 清华大学出版社  2015          电子商务服务  \n",
       "3            李蛟  北京 : 北京邮电大学出版社  2011  商务信息化管理 : 电子商务  \n",
       "4           劳帼龄    北京 : 电子工业出版社  2003            电子商务  "
      ]
     },
     "execution_count": 3,
     "metadata": {},
     "output_type": "execute_result"
    }
   ],
   "source": [
    "qh = pd.read_excel('清华大学图书馆-采集的数据1664.xlsx')\n",
    "qh.dropna()\n",
    "qh.head()"
   ]
  },
  {
   "cell_type": "code",
   "execution_count": 35,
   "metadata": {},
   "outputs": [],
   "source": [
    "def find_cn(x):\n",
    "    w = re.findall(r'[\\u4e00-\\u9fa5]',x)\n",
    "    l = ''.join(w)\n",
    "    # ww = jieba.lcut(l)\n",
    "    # ll = ' '.join(ww)\n",
    "    return l"
   ]
  },
  {
   "cell_type": "code",
   "execution_count": 36,
   "metadata": {},
   "outputs": [],
   "source": [
    "qh['标题'] = qh['标题'].astype('str')\n",
    "tt = qh['标题'].map(find_cn)"
   ]
  },
  {
   "cell_type": "code",
   "execution_count": 41,
   "metadata": {},
   "outputs": [],
   "source": [
    "ll = []\n",
    "for i in tt:\n",
    "    temp = jieba.lcut(i)\n",
    "    ll += temp\n",
    "ll = ' '.join(ll)"
   ]
  },
  {
   "cell_type": "code",
   "execution_count": 71,
   "metadata": {},
   "outputs": [
    {
     "data": {
      "text/plain": [
       "<wordcloud.wordcloud.WordCloud at 0x1bb87f62790>"
      ]
     },
     "execution_count": 71,
     "metadata": {},
     "output_type": "execute_result"
    }
   ],
   "source": [
    "j=[]\n",
    "for i in tt:\n",
    "    j.append(i)\n",
    "w1 = WordCloud(background_color='white',\n",
    "                font_path = 'msyh.ttc',\n",
    "                width = 800,\n",
    "                height = 600,\n",
    "                max_words = 200,\n",
    "                max_font_size = 80,\n",
    "                contour_width = 3,\n",
    "                contour_color = 'steelblue',\n",
    "                ).generate(' '.join(j))\n",
    "\n",
    "w1.to_file('中文书名词云.png')"
   ]
  },
  {
   "cell_type": "code",
   "execution_count": 76,
   "metadata": {},
   "outputs": [
    {
     "data": {
      "text/plain": [
       "<wordcloud.wordcloud.WordCloud at 0x1bb868add90>"
      ]
     },
     "execution_count": 76,
     "metadata": {},
     "output_type": "execute_result"
    }
   ],
   "source": [
    "#词频统计以及词云\n",
    "counts = {}\n",
    "for i in tt:\n",
    "    tt_cut = jieba.lcut(i)\n",
    "    for ii in tt_cut:\n",
    "        counts[ii] = counts.get(ii,0)+1\n",
    "\n",
    "w2 = WordCloud(background_color='white',\n",
    "                font_path = 'msyh.ttc',\n",
    "                width = 800,\n",
    "                height = 600,\n",
    "                max_words = 200,\n",
    "                max_font_size = 150,\n",
    "                contour_width = 3,\n",
    "                contour_color = 'steelblue',\n",
    "                )\n",
    "w2.generate_from_frequencies(counts)\n",
    "w2.to_file('ddd.png')"
   ]
  },
  {
   "cell_type": "code",
   "execution_count": null,
   "metadata": {},
   "outputs": [],
   "source": []
  }
 ],
 "metadata": {
  "interpreter": {
   "hash": "a04f5d07b0747026a8fbcdf50b9443318e69b1b8bd6247d88bfadb4789282972"
  },
  "kernelspec": {
   "display_name": "Python 3.8.8 ('base')",
   "language": "python",
   "name": "python3"
  },
  "language_info": {
   "codemirror_mode": {
    "name": "ipython",
    "version": 3
   },
   "file_extension": ".py",
   "mimetype": "text/x-python",
   "name": "python",
   "nbconvert_exporter": "python",
   "pygments_lexer": "ipython3",
   "version": "3.8.8"
  },
  "orig_nbformat": 4
 },
 "nbformat": 4,
 "nbformat_minor": 2
}
